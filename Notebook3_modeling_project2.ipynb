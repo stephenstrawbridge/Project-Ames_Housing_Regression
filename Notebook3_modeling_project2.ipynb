{
 "cells": [
  {
   "cell_type": "markdown",
   "metadata": {},
   "source": [
    "<img src=\"http://imgur.com/1ZcRyrc.png\" style=\"float: left; margin: 20px; height: 55px\">\n",
    "\n",
    "# Notebook 3: MODELING Ames Housing Data\n",
    "### Presented by:  Stephen Strawbridge\n",
    "\n",
    "### Purpose of this notebook is to fit, train, and model the training data file, and then create predictions on testing data file."
   ]
  },
  {
   "cell_type": "markdown",
   "metadata": {},
   "source": [
    "\n",
    "\n",
    "---\n",
    "## Fitting models with training dataframe"
   ]
  },
  {
   "cell_type": "code",
   "execution_count": 1,
   "metadata": {},
   "outputs": [],
   "source": [
    "#Relevant imports for this project, including scikit learn modeling imports\n",
    "import pandas as pd\n",
    "import numpy as np\n",
    "import matplotlib.pyplot as plt\n",
    "import seaborn as sns\n",
    "\n",
    "from sklearn import metrics\n",
    "from sklearn.linear_model import LinearRegression\n",
    "from sklearn.model_selection import train_test_split, cross_val_score\n",
    "from sklearn.preprocessing import StandardScaler, PolynomialFeatures\n",
    "from sklearn.metrics import r2_score, mean_squared_error\n",
    "from sklearn.linear_model import Lasso, LassoCV\n",
    "from sklearn.neighbors import KNeighborsClassifier\n",
    "from sklearn.linear_model import Ridge"
   ]
  },
  {
   "cell_type": "markdown",
   "metadata": {},
   "source": [
    "### Read in the final training and testing data, as created in Notebook 2"
   ]
  },
  {
   "cell_type": "code",
   "execution_count": 2,
   "metadata": {},
   "outputs": [],
   "source": [
    "final_ames_train = pd.read_csv('./final_train_test_csv_files/final_ames_train.csv')\n",
    "final_ames_test = pd.read_csv('./final_train_test_csv_files/final_ames_test.csv')"
   ]
  },
  {
   "cell_type": "markdown",
   "metadata": {},
   "source": [
    "### Split into X and Y"
   ]
  },
  {
   "cell_type": "code",
   "execution_count": 3,
   "metadata": {},
   "outputs": [],
   "source": [
    "#Establish x variables as all variables, but drop sale price\n",
    "xfeatures = final_ames_train.drop(['saleprice', 'id'], axis=1)"
   ]
  },
  {
   "cell_type": "code",
   "execution_count": 4,
   "metadata": {},
   "outputs": [],
   "source": [
    "#Establish X and the previous xfeatures, and set y equal to the dependent variable of saleprice\n",
    "X = xfeatures\n",
    "y = final_ames_train['saleprice']"
   ]
  },
  {
   "cell_type": "code",
   "execution_count": 5,
   "metadata": {},
   "outputs": [],
   "source": [
    "#Create train-test-split formula\n",
    "X_train, X_test, y_train, y_test = train_test_split(X,\n",
    "                                                   y,\n",
    "                                                   test_size = 0.30,\n",
    "                                                    random_state = 33)"
   ]
  },
  {
   "cell_type": "code",
   "execution_count": 6,
   "metadata": {},
   "outputs": [
    {
     "data": {
      "text/plain": [
       "(1434,)"
      ]
     },
     "execution_count": 6,
     "metadata": {},
     "output_type": "execute_result"
    }
   ],
   "source": [
    "y_train.shape"
   ]
  },
  {
   "cell_type": "markdown",
   "metadata": {},
   "source": [
    "### Regression Method 1: Linear Regression"
   ]
  },
  {
   "cell_type": "code",
   "execution_count": 7,
   "metadata": {},
   "outputs": [],
   "source": [
    "#Instantiate model\n",
    "lr = LinearRegression()\n",
    "\n",
    "#Fit the model\n",
    "ames_lin_model = lr.fit(X_train, y_train)"
   ]
  },
  {
   "cell_type": "code",
   "execution_count": 8,
   "metadata": {},
   "outputs": [],
   "source": [
    "#Training and Testing R-squared score\n",
    "r2_train = ames_lin_model.score(X_train, y_train)\n",
    "r2_test = ames_lin_model.score(X_test, y_test)"
   ]
  },
  {
   "cell_type": "markdown",
   "metadata": {},
   "source": [
    "#### *Find RMSE and R-squared scores*"
   ]
  },
  {
   "cell_type": "code",
   "execution_count": 9,
   "metadata": {},
   "outputs": [
    {
     "name": "stdout",
     "output_type": "stream",
     "text": [
      "RMSE: 25984\n",
      "Training R-Squared 0.9012\n",
      "Testing R-Squared 0.8706\n"
     ]
    }
   ],
   "source": [
    "#Create predictions\n",
    "y_predictions = lr.predict(X)\n",
    "\n",
    "#Create residuals\n",
    "residuals = y - y_predictions\n",
    "\n",
    "#Found root squared errors\n",
    "rss = (residuals**2).sum()\n",
    "mse = metrics.mean_squared_error(y, y_predictions)\n",
    "rmse = np.sqrt(metrics.mean_squared_error(y, y_predictions))\n",
    "\n",
    "print('RMSE:',round(rmse))\n",
    "\n",
    "#Training and Testing R-squared score\n",
    "print(\"Training R-Squared\", round(r2_train, 4))\n",
    "print(\"Testing R-Squared\", round(r2_test, 4))"
   ]
  },
  {
   "cell_type": "code",
   "execution_count": 10,
   "metadata": {},
   "outputs": [],
   "source": [
    "#Baseline RMSE (source code leveraged from https://numpy.org/doc/stable/reference/generated/numpy.zeros_like.html)\n",
    "null_pred = np.zeros_like(y_test)\n",
    "null_pred = null_pred + y_test.mean()\n",
    "base_RMSE = metrics.mean_squared_error(y_test, null_pred, squared=False)"
   ]
  },
  {
   "cell_type": "markdown",
   "metadata": {},
   "source": [
    "#### *Our linear regression way outperforms the baseline model! (per RMSE scores)*"
   ]
  },
  {
   "cell_type": "code",
   "execution_count": 11,
   "metadata": {},
   "outputs": [
    {
     "name": "stdout",
     "output_type": "stream",
     "text": [
      "RMSE: 25984\n",
      "Baseline RMSE 77676\n"
     ]
    }
   ],
   "source": [
    "print('RMSE:',round(rmse))\n",
    "print(\"Baseline RMSE\", round(base_RMSE))"
   ]
  },
  {
   "cell_type": "markdown",
   "metadata": {},
   "source": [
    "### Regression Method 2: Lasso Regression"
   ]
  },
  {
   "cell_type": "code",
   "execution_count": 12,
   "metadata": {},
   "outputs": [],
   "source": [
    "ss = StandardScaler()\n",
    "\n",
    "# Fit and transform training data\n",
    "Z_train = ss.fit_transform(X_train)\n",
    "\n",
    "# #Transform testing data\n",
    "Z_test = ss.transform(X_test)"
   ]
  },
  {
   "cell_type": "code",
   "execution_count": 13,
   "metadata": {},
   "outputs": [],
   "source": [
    "#The following LASSO source code is leveraged from lesson 4.02\n",
    "\n",
    "#Create list of LASSO alphas to check\n",
    "l_alphas = np.logspace(-3, 0, 100)\n",
    "\n",
    "#Cross-validate over list of LASSO alphas from previous step\n",
    "lasso_cv = LassoCV(alphas=l_alphas, cv=5, max_iter=5000)\n",
    "\n",
    "#Fit model using best alpha\n",
    "lasso_cv.fit(Z_train, y_train);"
   ]
  },
  {
   "cell_type": "markdown",
   "metadata": {},
   "source": [
    "#### *Find RMSE and R-squared scores*"
   ]
  },
  {
   "cell_type": "code",
   "execution_count": 14,
   "metadata": {},
   "outputs": [
    {
     "name": "stdout",
     "output_type": "stream",
     "text": [
      "Lasso R-squared 0.8706\n",
      "RMSE 27943\n",
      "Baseline RMSE 77676\n"
     ]
    }
   ],
   "source": [
    "#Create predictions\n",
    "y_predictions = lasso_cv.predict(Z_test)\n",
    "\n",
    "#Find R-squared\n",
    "lasso_R2 = lasso_cv.score(Z_test, y_test)\n",
    "\n",
    "#Find RMSE\n",
    "RMSE = np.sqrt(metrics.mean_squared_error(y_test, y_predictions))\n",
    "\n",
    "print(\"Lasso R-squared\", round(lasso_R2, 4))\n",
    "print(\"RMSE\", round(RMSE))\n",
    "print(\"Baseline RMSE\", round(base_RMSE))"
   ]
  },
  {
   "cell_type": "markdown",
   "metadata": {},
   "source": [
    "### Regression Method 3: Ridge Regression\n"
   ]
  },
  {
   "cell_type": "code",
   "execution_count": 15,
   "metadata": {},
   "outputs": [],
   "source": [
    "#Source code is leveraged from lesson 4.02\n",
    "\n",
    "#Instantiate model\n",
    "ridge_model = Ridge(alpha=10)\n",
    "\n",
    "#Fit model\n",
    "ridge_model.fit(Z_train, y_train);"
   ]
  },
  {
   "cell_type": "markdown",
   "metadata": {},
   "source": [
    "#### *Find RMSE and R-squared scores*"
   ]
  },
  {
   "cell_type": "code",
   "execution_count": 16,
   "metadata": {},
   "outputs": [
    {
     "name": "stdout",
     "output_type": "stream",
     "text": [
      "Lasso R-squared 0.8713\n",
      "RMSE 27867\n",
      "Baseline RMSE 77676\n"
     ]
    }
   ],
   "source": [
    "#Create predictions\n",
    "y_preds = ridge_model.predict(Z_test)\n",
    "\n",
    "#Find R-squared\n",
    "r2_train = ridge_model.score(Z_train, y_train)\n",
    "r2_test = ridge_model.score(Z_test, y_test)\n",
    "\n",
    "#Find RMSE\n",
    "RMSE = np.sqrt(metrics.mean_squared_error(y_test, y_preds))\n",
    "\n",
    "print(\"Lasso R-squared\", round(r2_test, 4))\n",
    "print(\"RMSE\", round(RMSE))\n",
    "print(\"Baseline RMSE\", round(base_RMSE))"
   ]
  },
  {
   "cell_type": "markdown",
   "metadata": {},
   "source": [
    "\n",
    "\n",
    "---\n",
    "# Modeling on testing dataframe"
   ]
  },
  {
   "cell_type": "markdown",
   "metadata": {},
   "source": [
    "### Regression Method 1: Using Linear Regression\n",
    "##### Because the *linear regression* was the best performing model, predictions below are created from the linear model."
   ]
  },
  {
   "cell_type": "code",
   "execution_count": 17,
   "metadata": {},
   "outputs": [],
   "source": [
    "#Make predictions for y values (sales price) using linear regression, but removing column id\n",
    "y_regress_preds = lr.predict(final_ames_test.drop(columns='id'))"
   ]
  },
  {
   "cell_type": "code",
   "execution_count": 18,
   "metadata": {},
   "outputs": [
    {
     "data": {
      "image/png": "[encoded data removed]",
      "text/plain": [
       "<Figure size 432x288 with 1 Axes>"
      ]
     },
     "metadata": {
      "needs_background": "light"
     },
     "output_type": "display_data"
    }
   ],
   "source": [
    "#Look at errors in scatter plot\n",
    "graph_predictions = lr.predict(X_test)\n",
    "\n",
    "resids = y_test - graph_predictions\n",
    "\n",
    "plt.title('Residuals of Predictions', fontsize=20);\n",
    "sns.scatterplot(x=y_test, y=resids);\n",
    "plt.ylabel('Error in USD');\n",
    "plt.axhline(0, color='r');"
   ]
  },
  {
   "cell_type": "code",
   "execution_count": 19,
   "metadata": {},
   "outputs": [
    {
     "data": {
      "image/png": "[encoded data removed]",
      "text/plain": [
       "<Figure size 432x288 with 1 Axes>"
      ]
     },
     "metadata": {
      "needs_background": "light"
     },
     "output_type": "display_data"
    }
   ],
   "source": [
    "plt.title('Actuals vs Predictions', fontsize=20);\n",
    "sns.regplot(x=y_test, y=graph_predictions, data=final_ames_test, marker='.');\n",
    "plt.xlabel('Actuals', fontsize=12);\n",
    "plt.ylabel('Predictions', fontsize=12);"
   ]
  },
  {
   "cell_type": "code",
   "execution_count": 20,
   "metadata": {},
   "outputs": [],
   "source": [
    "#Write a function to create a csv file with predictions to submit to Kaggle\n",
    "#Source code leveraged from fellow classmate, Katharine King\n",
    "\n",
    "def kaggle_submission(preds, model_number):\n",
    "    \n",
    "    submission = pd.DataFrame(data=preds)\n",
    "    submission = pd.merge(final_ames_test['id'], submission, left_index = True, right_index = True)\n",
    "    \n",
    "    submission.rename({'id' : 'ID',\n",
    "                      0 : 'SalePrice'},\n",
    "                     inplace = True,\n",
    "                     axis = 1)\n",
    "    \n",
    "    submission.to_csv(f'./datasets/submission_{model_number}.csv', index=False)\n",
    "    \n",
    "    return submission"
   ]
  },
  {
   "cell_type": "code",
   "execution_count": 21,
   "metadata": {},
   "outputs": [],
   "source": [
    "#Make submission!\n",
    "kaggle_submission(y_regress_preds, 'LinReg_2');"
   ]
  },
  {
   "cell_type": "markdown",
   "metadata": {},
   "source": [
    "\n",
    "\n",
    "---\n",
    "# Conclusions Reached"
   ]
  },
  {
   "cell_type": "markdown",
   "metadata": {},
   "source": [
    "##### At the end of the modeling process, it can be seen that the linear regression outperformed the LASSO and ridge regressions, but only by a slight amount.  All three regressions far outperformed the baseline model.  For my model specifically, finding collinearity between housing features of total square footage, overall quality, and age of the house proved to be strong engineered features.  It is also noteworthy to add that although common intuition was helpful in deciding which features to engineer, plotting heatmaps was the most accurate and efficient way to engineer.\n",
    "\n",
    "##### *Further Considerations/Recommendations*: \n",
    "##### On the linear regression model, I could have tried to eliminate the few large errors as evidenced on the residuals visuals scatterplots above.  There may have been additional outliers in the data that went unnoticed during my EDA.  \n",
    "##### I believe that the LASSO (and Ridge) model could have performed better had I performed trial and error on the model's parameters.  I believe I did not reach the full potential of the LASSO."
   ]
  }
 ],
 "metadata": {
  "kernelspec": {
   "display_name": "Python 3",
   "language": "python",
   "name": "python3"
  },
  "language_info": {
   "codemirror_mode": {
    "name": "ipython",
    "version": 3
   },
   "file_extension": ".py",
   "mimetype": "text/x-python",
   "name": "python",
   "nbconvert_exporter": "python",
   "pygments_lexer": "ipython3",
   "version": "3.8.3"
  }
 },
 "nbformat": 4,
 "nbformat_minor": 4
}
